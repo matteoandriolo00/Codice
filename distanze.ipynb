{
 "cells": [
  {
   "cell_type": "code",
   "execution_count": 1,
   "metadata": {},
   "outputs": [
    {
     "data": {
      "text/html": [
       "<div>\n",
       "<style scoped>\n",
       "    .dataframe tbody tr th:only-of-type {\n",
       "        vertical-align: middle;\n",
       "    }\n",
       "\n",
       "    .dataframe tbody tr th {\n",
       "        vertical-align: top;\n",
       "    }\n",
       "\n",
       "    .dataframe thead th {\n",
       "        text-align: right;\n",
       "    }\n",
       "</style>\n",
       "<table border=\"1\" class=\"dataframe\">\n",
       "  <thead>\n",
       "    <tr style=\"text-align: right;\">\n",
       "      <th></th>\n",
       "      <th>COMUNE</th>\n",
       "      <th>VIA/VICOLO/PIAZZA</th>\n",
       "      <th>latitudine</th>\n",
       "      <th>longitudine</th>\n",
       "    </tr>\n",
       "  </thead>\n",
       "  <tbody>\n",
       "    <tr>\n",
       "      <th>0</th>\n",
       "      <td>Albignasego</td>\n",
       "      <td>GALLERIA ROMA</td>\n",
       "      <td>45.35513</td>\n",
       "      <td>11.86904</td>\n",
       "    </tr>\n",
       "    <tr>\n",
       "      <th>1</th>\n",
       "      <td>Albignasego</td>\n",
       "      <td>LARGO DEGLI OBIZZI</td>\n",
       "      <td>45.34431</td>\n",
       "      <td>11.86808</td>\n",
       "    </tr>\n",
       "    <tr>\n",
       "      <th>2</th>\n",
       "      <td>Albignasego</td>\n",
       "      <td>PIAZZA ALCIDE DE GASPERI</td>\n",
       "      <td>45.34643</td>\n",
       "      <td>11.86731</td>\n",
       "    </tr>\n",
       "    <tr>\n",
       "      <th>3</th>\n",
       "      <td>Albignasego</td>\n",
       "      <td>PIAZZA SAN GIOVANNI CALABRIA</td>\n",
       "      <td>45.35003</td>\n",
       "      <td>11.86318</td>\n",
       "    </tr>\n",
       "    <tr>\n",
       "      <th>4</th>\n",
       "      <td>Albignasego</td>\n",
       "      <td>PIAZZALE DELLA TORRE</td>\n",
       "      <td>45.34047</td>\n",
       "      <td>11.90327</td>\n",
       "    </tr>\n",
       "  </tbody>\n",
       "</table>\n",
       "</div>"
      ],
      "text/plain": [
       "        COMUNE             VIA/VICOLO/PIAZZA  latitudine  longitudine\n",
       "0  Albignasego                 GALLERIA ROMA    45.35513     11.86904\n",
       "1  Albignasego            LARGO DEGLI OBIZZI    45.34431     11.86808\n",
       "2  Albignasego      PIAZZA ALCIDE DE GASPERI    45.34643     11.86731\n",
       "3  Albignasego  PIAZZA SAN GIOVANNI CALABRIA    45.35003     11.86318\n",
       "4  Albignasego          PIAZZALE DELLA TORRE    45.34047     11.90327"
      ]
     },
     "execution_count": 1,
     "metadata": {},
     "output_type": "execute_result"
    }
   ],
   "source": [
    "import pandas as pd\n",
    "from geopy import distance\n",
    "\n",
    "df = pd.read_csv(\"dataset_vie.csv\", sep=\",\")\n",
    "\n",
    "df.head()\n",
    "\n",
    "#pizzeria = (45.33296,11.86768)\n",
    "\n",
    "#df[\"distanza dalla pizzeria\"] = df[\"coordinate\"].apply(lambda coord: distance.distance(coord, pizzeria).km)  \n",
    "#df_vicine = df[df[\"distanza dalla pizzeria\"] < 0.5]  # filtro le vie più vicine alla pizzeria\n",
    "#df_vicine = df_vicine.drop(columns=[\"coordinate\", \"distanza dalla pizzeria\"])\n",
    "#df_vicine\n"
   ]
  },
  {
   "cell_type": "code",
   "execution_count": 2,
   "metadata": {},
   "outputs": [],
   "source": [
    "df[\"Coordinate\"] = df[[\"latitudine\", \"longitudine\"]].apply(tuple, axis=1)\n",
    "df = df.drop(columns=[\"latitudine\", \"longitudine\"])"
   ]
  },
  {
   "cell_type": "code",
   "execution_count": 3,
   "metadata": {},
   "outputs": [
    {
     "data": {
      "text/html": [
       "<div>\n",
       "<style scoped>\n",
       "    .dataframe tbody tr th:only-of-type {\n",
       "        vertical-align: middle;\n",
       "    }\n",
       "\n",
       "    .dataframe tbody tr th {\n",
       "        vertical-align: top;\n",
       "    }\n",
       "\n",
       "    .dataframe thead th {\n",
       "        text-align: right;\n",
       "    }\n",
       "</style>\n",
       "<table border=\"1\" class=\"dataframe\">\n",
       "  <thead>\n",
       "    <tr style=\"text-align: right;\">\n",
       "      <th></th>\n",
       "      <th>Indirizzo</th>\n",
       "      <th>Coordinate</th>\n",
       "    </tr>\n",
       "  </thead>\n",
       "  <tbody>\n",
       "    <tr>\n",
       "      <th>0</th>\n",
       "      <td>GALLERIA ROMA Albignasego</td>\n",
       "      <td>(45.35513, 11.86904)</td>\n",
       "    </tr>\n",
       "    <tr>\n",
       "      <th>1</th>\n",
       "      <td>LARGO DEGLI OBIZZI Albignasego</td>\n",
       "      <td>(45.34431, 11.86808)</td>\n",
       "    </tr>\n",
       "    <tr>\n",
       "      <th>2</th>\n",
       "      <td>PIAZZA ALCIDE DE GASPERI Albignasego</td>\n",
       "      <td>(45.34643, 11.86731)</td>\n",
       "    </tr>\n",
       "    <tr>\n",
       "      <th>3</th>\n",
       "      <td>PIAZZA SAN GIOVANNI CALABRIA Albignasego</td>\n",
       "      <td>(45.35003, 11.86318)</td>\n",
       "    </tr>\n",
       "    <tr>\n",
       "      <th>4</th>\n",
       "      <td>PIAZZALE DELLA TORRE Albignasego</td>\n",
       "      <td>(45.34047, 11.90327)</td>\n",
       "    </tr>\n",
       "  </tbody>\n",
       "</table>\n",
       "</div>"
      ],
      "text/plain": [
       "                                  Indirizzo            Coordinate\n",
       "0                 GALLERIA ROMA Albignasego  (45.35513, 11.86904)\n",
       "1            LARGO DEGLI OBIZZI Albignasego  (45.34431, 11.86808)\n",
       "2      PIAZZA ALCIDE DE GASPERI Albignasego  (45.34643, 11.86731)\n",
       "3  PIAZZA SAN GIOVANNI CALABRIA Albignasego  (45.35003, 11.86318)\n",
       "4          PIAZZALE DELLA TORRE Albignasego  (45.34047, 11.90327)"
      ]
     },
     "execution_count": 3,
     "metadata": {},
     "output_type": "execute_result"
    }
   ],
   "source": [
    "df[\"Indirizzo\"] = df[\"VIA/VICOLO/PIAZZA\"] + \" \" + df[\"COMUNE\"]\n",
    "df = df[['Indirizzo', 'Coordinate']]\n",
    "\n",
    "df.head()"
   ]
  },
  {
   "cell_type": "code",
   "execution_count": 4,
   "metadata": {},
   "outputs": [],
   "source": [
    "df.to_csv(\"Indirizzi.csv\", index=False)"
   ]
  }
 ],
 "metadata": {
  "kernelspec": {
   "display_name": "Python 3",
   "language": "python",
   "name": "python3"
  },
  "language_info": {
   "codemirror_mode": {
    "name": "ipython",
    "version": 3
   },
   "file_extension": ".py",
   "mimetype": "text/x-python",
   "name": "python",
   "nbconvert_exporter": "python",
   "pygments_lexer": "ipython3",
   "version": "3.13.0"
  }
 },
 "nbformat": 4,
 "nbformat_minor": 2
}
